{
 "cells": [
  {
   "cell_type": "code",
   "execution_count": 1,
   "metadata": {},
   "outputs": [],
   "source": [
    "def qsort(data):\n",
    "    if len(data) <= 1:\n",
    "        return data\n",
    "    \n",
    "    left, right = list(), list()\n",
    "    pivot = data[0]\n",
    "    \n",
    "    for index in range(1, len(data)):\n",
    "        if pivot > data[index]:\n",
    "            left.append(data[index])\n",
    "        else:\n",
    "            right.append(data[index])\n",
    "            \n",
    "    return qsort(left) + [pivot] + qsort(right)"
   ]
  },
  {
   "cell_type": "code",
   "execution_count": 2,
   "metadata": {},
   "outputs": [
    {
     "data": {
      "text/plain": [
       "[11, 19, 22, 29, 74, 79, 84, 90, 95, 99]"
      ]
     },
     "execution_count": 2,
     "metadata": {},
     "output_type": "execute_result"
    }
   ],
   "source": [
    "import random\n",
    "\n",
    "data_list = random.sample(range(100), 10)\n",
    "\n",
    "qsort(data_list)"
   ]
  },
  {
   "cell_type": "code",
   "execution_count": 3,
   "metadata": {},
   "outputs": [],
   "source": [
    "def qsort(data):\n",
    "    if len(data) <= 1:\n",
    "        return data\n",
    "\n",
    "    pivot = data[0]\n",
    "    \n",
    "    left = [ item for item in data[1:] if pivot > item]\n",
    "    right = [ item for item in data[1:] if pivot <= item]\n",
    "    \n",
    "    return qsort(left) + [pivot] + qsort(right)"
   ]
  },
  {
   "cell_type": "code",
   "execution_count": 4,
   "metadata": {},
   "outputs": [
    {
     "data": {
      "text/plain": [
       "[9, 22, 29, 30, 39, 45, 54, 91, 92, 98]"
      ]
     },
     "execution_count": 4,
     "metadata": {},
     "output_type": "execute_result"
    }
   ],
   "source": [
    "import random\n",
    "\n",
    "data_list = random.sample(range(100), 10)\n",
    "\n",
    "qsort(data_list)"
   ]
  },
  {
   "cell_type": "code",
   "execution_count": null,
   "metadata": {},
   "outputs": [],
   "source": []
  }
 ],
 "metadata": {
  "kernelspec": {
   "display_name": "Python 3",
   "language": "python",
   "name": "python3"
  },
  "language_info": {
   "codemirror_mode": {
    "name": "ipython",
    "version": 3
   },
   "file_extension": ".py",
   "mimetype": "text/x-python",
   "name": "python",
   "nbconvert_exporter": "python",
   "pygments_lexer": "ipython3",
   "version": "3.7.4"
  }
 },
 "nbformat": 4,
 "nbformat_minor": 2
}
